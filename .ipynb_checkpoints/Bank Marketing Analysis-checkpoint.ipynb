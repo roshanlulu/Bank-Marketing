{
 "cells": [
  {
   "cell_type": "code",
   "execution_count": 1,
   "metadata": {
    "collapsed": true
   },
   "outputs": [],
   "source": [
    "import pandas as pd\n",
    "import numpy as np\n",
    "import matplotlib.pyplot as plt\n",
    "import seaborn as sns\n",
    "\n",
    "%matplotlib inline"
   ]
  },
  {
   "cell_type": "code",
   "execution_count": 2,
   "metadata": {
    "collapsed": true
   },
   "outputs": [],
   "source": [
    "import warnings\n",
    "warnings.filterwarnings('ignore')"
   ]
  },
  {
   "cell_type": "code",
   "execution_count": 3,
   "metadata": {
    "collapsed": true
   },
   "outputs": [],
   "source": [
    "%config InlineBackend.figure_format = 'retina'\n",
    "\n",
    "from sklearn.neighbors import KNeighborsClassifier\n",
    "from sklearn.preprocessing import StandardScaler\n",
    "from sklearn.model_selection import cross_val_score\n",
    "from sklearn.model_selection import cross_val_predict"
   ]
  },
  {
   "cell_type": "markdown",
   "metadata": {},
   "source": [
    "**First look at the datasets**"
   ]
  },
  {
   "cell_type": "code",
   "execution_count": 4,
   "metadata": {
    "collapsed": true
   },
   "outputs": [],
   "source": [
    "path_1 = './dataset/bank-additional-full.csv'\n",
    "path_2 = './dataset/bank-additional-names.txt'\n",
    "path_3 = './dataset/bank-additional.csv'"
   ]
  },
  {
   "cell_type": "code",
   "execution_count": 5,
   "metadata": {},
   "outputs": [],
   "source": [
    "# Function to read the source files\n",
    "def read_files(path):\n",
    "    df = pd.read_csv(path, sep=';')\n",
    "    print('\\nDetails of dataset: ', path)\n",
    "    print('Shape: ',df.shape)\n",
    "    return df"
   ]
  },
  {
   "cell_type": "code",
   "execution_count": 6,
   "metadata": {},
   "outputs": [
    {
     "name": "stdout",
     "output_type": "stream",
     "text": [
      "\n",
      "Details of dataset:  ./dataset/bank-additional-full.csv\n",
      "Shape:  (41188, 21)\n",
      "\n",
      "Details of dataset:  ./dataset/bank-additional.csv\n",
      "Shape:  (4119, 21)\n"
     ]
    }
   ],
   "source": [
    "data_1 = read_files(path_1)\n",
    "data_3 = read_files(path_3)"
   ]
  },
  {
   "cell_type": "code",
   "execution_count": 7,
   "metadata": {},
   "outputs": [],
   "source": [
    "# Checking if the features of the smaller and larger dataset are the same\n",
    "if False in list(data_1.columns == data_3.columns):\n",
    "    print('Not similar')"
   ]
  },
  {
   "cell_type": "markdown",
   "metadata": {},
   "source": [
    "**What do we understand from the first look at the dataset(csv files)?**\n",
    "- There are 2 datasets of small and large size with similar features.\n",
    "- Approach for modelling: Train the model on the smaller dataset and test on the larger dataset. This will ensure the model does not see the test set.\n",
    "\n",
    "**Problem statement:**\n",
    "- The binary classification goal is to predict if the client will subscribe a bank term deposit (variable y).\n",
    "\n",
    "**Summary of Input variables**\n",
    "   \n",
    "### Bank client data:\n",
    "   1. age (numeric)\n",
    "   2. job : type of job (categorical: \"admin.\",\"blue-collar\",\"entrepreneur\",\"housemaid\",\"management\",\"retired\",\"self-employed\",\"services\",\"student\",\"technician\",\"unemployed\",\"unknown\")\n",
    "   3. marital : marital status (categorical: \"divorced\",\"married\",\"single\",\"unknown\"; note: \"divorced\" means divorced or widowed)\n",
    "   4. education (categorical: \"basic.4y\",\"basic.6y\",\"basic.9y\",\"high.school\",\"illiterate\",\"professional.course\",\"university.degree\",\"unknown\")\n",
    "   5. default: has credit in default? (categorical: \"no\",\"yes\",\"unknown\")\n",
    "   6. housing: has housing loan? (categorical: \"no\",\"yes\",\"unknown\")\n",
    "   7. loan: has personal loan? (categorical: \"no\",\"yes\",\"unknown\")\n",
    "### Related with the last contact of the current campaign:\n",
    "   8. contact: contact communication type (categorical: \"cellular\",\"telephone\") \n",
    "   9. month: last contact month of year (categorical: \"jan\", \"feb\", \"mar\", ..., \"nov\", \"dec\")\n",
    "   10. day_of_week: last contact day of the week (categorical: \"mon\",\"tue\",\"wed\",\"thu\",\"fri\")\n",
    "   11. duration: last contact duration, in seconds (numeric). Important note:  this attribute highly affects the output target (e.g., if duration=0 then y=\"no\"). Yet, the duration is not known before a call is performed. Also, after the end of the call y is obviously known. Thus, this input should only be included for benchmark purposes and should be discarded if the intention is to have a realistic predictive model.\n",
    "### Other attributes:\n",
    "   12. campaign: number of contacts performed during this campaign and for this client (numeric, includes last contact)\n",
    "   13. pdays: number of days that passed by after the client was last contacted from a previous campaign (numeric; 999 means client was not previously contacted)\n",
    "   14. previous: number of contacts performed before this campaign and for this client (numeric)\n",
    "   15. poutcome: outcome of the previous marketing campaign (categorical: \"failure\",\"nonexistent\",\"success\")\n",
    "### Social and economic context attributes\n",
    "   16. emp.var.rate: employment variation rate - quarterly indicator (numeric)\n",
    "   17. cons.price.idx: consumer price index - monthly indicator (numeric)     \n",
    "   18. cons.conf.idx: consumer confidence index - monthly indicator (numeric)     \n",
    "   19. euribor3m: euribor 3 month rate - daily indicator (numeric)\n",
    "   20. nr.employed: number of employees - quarterly indicator (numeric)\n",
    "### Output variable (desired target):\n",
    "   21. y - has the client subscribed a term deposit? (binary: \"yes\",\"no\")"
   ]
  },
  {
   "cell_type": "markdown",
   "metadata": {},
   "source": [
    "## Exploratory data analysis"
   ]
  },
  {
   "cell_type": "code",
   "execution_count": 8,
   "metadata": {
    "collapsed": true
   },
   "outputs": [],
   "source": [
    "# Copy the train dataset to a new dataframe. \n",
    "data = data_1[:]"
   ]
  },
  {
   "cell_type": "code",
   "execution_count": 9,
   "metadata": {},
   "outputs": [
    {
     "data": {
      "text/plain": [
       "Index(['age', 'job', 'marital', 'education', 'default', 'housing', 'loan',\n",
       "       'contact', 'month', 'day_of_week', 'duration', 'campaign', 'pdays',\n",
       "       'previous', 'poutcome', 'emp.var.rate', 'cons.price.idx',\n",
       "       'cons.conf.idx', 'euribor3m', 'nr.employed', 'y'],\n",
       "      dtype='object')"
      ]
     },
     "execution_count": 9,
     "metadata": {},
     "output_type": "execute_result"
    }
   ],
   "source": [
    "data.columns"
   ]
  },
  {
   "cell_type": "markdown",
   "metadata": {},
   "source": [
    "**Check for null values and dtypes**\n",
    "- For this dataset it is given that null values are referred to as 'unknown'. Hence replacing the 'unknown' values as null would be required\n"
   ]
  },
  {
   "cell_type": "code",
   "execution_count": 10,
   "metadata": {
    "collapsed": true
   },
   "outputs": [],
   "source": [
    "def change_unknown(df):\n",
    "    df.replace('unknown', np.nan, inplace = True)\n",
    "    return df"
   ]
  },
  {
   "cell_type": "code",
   "execution_count": 11,
   "metadata": {
    "collapsed": true
   },
   "outputs": [],
   "source": [
    "# Function to check the null counts in a dataframe\n",
    "def checknullcount(df):\n",
    "    info = []\n",
    "    columns = ('Feature', 'Nullcount', 'Dtypes', 'Unique Count', 'Unique')\n",
    "    for col in df.columns:\n",
    "        nunique = df[col].nunique()\n",
    "        unique = df[col].unique()\n",
    "        nullcount = df[col].isnull().sum()\n",
    "        datatype = df[col].dtypes\n",
    "        if nullcount != 0:\n",
    "            info.append([col, nullcount, datatype, nunique, unique])\n",
    "    return (pd.DataFrame(columns=columns, data=info).sort_values('Nullcount', ascending = False))"
   ]
  },
  {
   "cell_type": "code",
   "execution_count": 12,
   "metadata": {
    "scrolled": true
   },
   "outputs": [
    {
     "data": {
      "text/html": [
       "<div>\n",
       "<table border=\"1\" class=\"dataframe\">\n",
       "  <thead>\n",
       "    <tr style=\"text-align: right;\">\n",
       "      <th></th>\n",
       "      <th>Feature</th>\n",
       "      <th>Nullcount</th>\n",
       "      <th>Dtypes</th>\n",
       "      <th>Unique Count</th>\n",
       "      <th>Unique</th>\n",
       "    </tr>\n",
       "  </thead>\n",
       "  <tbody>\n",
       "    <tr>\n",
       "      <th>3</th>\n",
       "      <td>default</td>\n",
       "      <td>8597</td>\n",
       "      <td>object</td>\n",
       "      <td>2</td>\n",
       "      <td>[no, nan, yes]</td>\n",
       "    </tr>\n",
       "    <tr>\n",
       "      <th>2</th>\n",
       "      <td>education</td>\n",
       "      <td>1731</td>\n",
       "      <td>object</td>\n",
       "      <td>7</td>\n",
       "      <td>[basic.4y, high.school, basic.6y, basic.9y, pr...</td>\n",
       "    </tr>\n",
       "    <tr>\n",
       "      <th>4</th>\n",
       "      <td>housing</td>\n",
       "      <td>990</td>\n",
       "      <td>object</td>\n",
       "      <td>2</td>\n",
       "      <td>[no, yes, nan]</td>\n",
       "    </tr>\n",
       "    <tr>\n",
       "      <th>5</th>\n",
       "      <td>loan</td>\n",
       "      <td>990</td>\n",
       "      <td>object</td>\n",
       "      <td>2</td>\n",
       "      <td>[no, yes, nan]</td>\n",
       "    </tr>\n",
       "    <tr>\n",
       "      <th>0</th>\n",
       "      <td>job</td>\n",
       "      <td>330</td>\n",
       "      <td>object</td>\n",
       "      <td>11</td>\n",
       "      <td>[housemaid, services, admin., blue-collar, tec...</td>\n",
       "    </tr>\n",
       "    <tr>\n",
       "      <th>1</th>\n",
       "      <td>marital</td>\n",
       "      <td>80</td>\n",
       "      <td>object</td>\n",
       "      <td>3</td>\n",
       "      <td>[married, single, divorced, nan]</td>\n",
       "    </tr>\n",
       "  </tbody>\n",
       "</table>\n",
       "</div>"
      ],
      "text/plain": [
       "     Feature  Nullcount  Dtypes  Unique Count  \\\n",
       "3    default       8597  object             2   \n",
       "2  education       1731  object             7   \n",
       "4    housing        990  object             2   \n",
       "5       loan        990  object             2   \n",
       "0        job        330  object            11   \n",
       "1    marital         80  object             3   \n",
       "\n",
       "                                              Unique  \n",
       "3                                     [no, nan, yes]  \n",
       "2  [basic.4y, high.school, basic.6y, basic.9y, pr...  \n",
       "4                                     [no, yes, nan]  \n",
       "5                                     [no, yes, nan]  \n",
       "0  [housemaid, services, admin., blue-collar, tec...  \n",
       "1                   [married, single, divorced, nan]  "
      ]
     },
     "execution_count": 12,
     "metadata": {},
     "output_type": "execute_result"
    }
   ],
   "source": [
    "data = change_unknown(data)\n",
    "checknullcount(data)"
   ]
  },
  {
   "cell_type": "markdown",
   "metadata": {},
   "source": [
    "**Analysis of Null values**\n",
    "- 6 features have null values:\n",
    "    - default - 803. All of this cannot be deleted! Nee dto check of ways to impute. KNN imputation might be a good method.\n",
    "    - education - 167. These can be deleted after a quick check\n",
    "    - housing - 105\n",
    "    - loan - 105\n",
    "    - job - 39\n",
    "    - marital - 11"
   ]
  },
  {
   "cell_type": "markdown",
   "metadata": {},
   "source": [
    "**After a quick look at the unknown values in Tableau, the understanding is that it is better to delet clients who have unknown values in housing and loan.**"
   ]
  },
  {
   "cell_type": "code",
   "execution_count": 13,
   "metadata": {
    "collapsed": true
   },
   "outputs": [],
   "source": [
    "data = data[data['housing'].notnull()]\n",
    "data = data[data['job'].notnull()]\n",
    "data = data[data['marital'].notnull()]"
   ]
  },
  {
   "cell_type": "code",
   "execution_count": 14,
   "metadata": {},
   "outputs": [
    {
     "data": {
      "text/plain": [
       "no     31587\n",
       "yes        3\n",
       "Name: default, dtype: int64"
      ]
     },
     "execution_count": 14,
     "metadata": {},
     "output_type": "execute_result"
    }
   ],
   "source": [
    "data['default'].value_counts()"
   ]
  },
  {
   "cell_type": "markdown",
   "metadata": {},
   "source": [
    "** The distribution of default credit is more towards no. It makes sense toeither not use this feature or impute with a no**"
   ]
  },
  {
   "cell_type": "code",
   "execution_count": 15,
   "metadata": {},
   "outputs": [],
   "source": [
    "# fill in missing values\n",
    "data.default.fillna(value='no', inplace=True)"
   ]
  },
  {
   "cell_type": "code",
   "execution_count": 16,
   "metadata": {},
   "outputs": [
    {
     "data": {
      "text/html": [
       "<div>\n",
       "<table border=\"1\" class=\"dataframe\">\n",
       "  <thead>\n",
       "    <tr style=\"text-align: right;\">\n",
       "      <th></th>\n",
       "      <th>Feature</th>\n",
       "      <th>Nullcount</th>\n",
       "      <th>Dtypes</th>\n",
       "      <th>Unique Count</th>\n",
       "      <th>Unique</th>\n",
       "    </tr>\n",
       "  </thead>\n",
       "  <tbody>\n",
       "    <tr>\n",
       "      <th>0</th>\n",
       "      <td>education</td>\n",
       "      <td>1558</td>\n",
       "      <td>object</td>\n",
       "      <td>7</td>\n",
       "      <td>[basic.4y, high.school, basic.6y, basic.9y, pr...</td>\n",
       "    </tr>\n",
       "  </tbody>\n",
       "</table>\n",
       "</div>"
      ],
      "text/plain": [
       "     Feature  Nullcount  Dtypes  Unique Count  \\\n",
       "0  education       1558  object             7   \n",
       "\n",
       "                                              Unique  \n",
       "0  [basic.4y, high.school, basic.6y, basic.9y, pr...  "
      ]
     },
     "execution_count": 16,
     "metadata": {},
     "output_type": "execute_result"
    }
   ],
   "source": [
    "# change_unknown(data)\n",
    "checknullcount(data)"
   ]
  },
  {
   "cell_type": "markdown",
   "metadata": {},
   "source": [
    "##  Imputing with KNN\n",
    "\n",
    "K-Nearest Neighbors can be used to impute missing values in datasets. What we will do is estimate the most likely value for the missing data based on a KNN model.\n",
    "\n",
    "- The column with missing data education\n",
    "\n",
    "\n",
    "Here, we are trying to predict the values of default provided the other factors.\n",
    "- Assuming a clients bank data will be similar to the other clients with similar attributes, we will use KNN imputation with the other Client data as the predictors."
   ]
  },
  {
   "cell_type": "markdown",
   "metadata": {},
   "source": [
    "**1. Create a subset of the large dataset with only client features**"
   ]
  },
  {
   "cell_type": "code",
   "execution_count": 17,
   "metadata": {},
   "outputs": [],
   "source": [
    "clientdata = data[['age', 'job', 'marital', 'education', 'housing', 'loan', 'default']]\n",
    "predictors = ['age', 'job', 'marital', 'default', 'housing', 'loan']"
   ]
  },
  {
   "cell_type": "code",
   "execution_count": 18,
   "metadata": {},
   "outputs": [
    {
     "name": "stdout",
     "output_type": "stream",
     "text": [
      "(39803, 16)\n"
     ]
    },
    {
     "data": {
      "text/html": [
       "<div>\n",
       "<table border=\"1\" class=\"dataframe\">\n",
       "  <thead>\n",
       "    <tr style=\"text-align: right;\">\n",
       "      <th></th>\n",
       "      <th>age</th>\n",
       "      <th>job_blue-collar</th>\n",
       "      <th>job_entrepreneur</th>\n",
       "      <th>job_housemaid</th>\n",
       "      <th>job_management</th>\n",
       "      <th>job_retired</th>\n",
       "      <th>job_self-employed</th>\n",
       "      <th>job_services</th>\n",
       "      <th>job_student</th>\n",
       "      <th>job_technician</th>\n",
       "      <th>job_unemployed</th>\n",
       "      <th>marital_married</th>\n",
       "      <th>marital_single</th>\n",
       "      <th>default_yes</th>\n",
       "      <th>housing_yes</th>\n",
       "      <th>loan_yes</th>\n",
       "    </tr>\n",
       "  </thead>\n",
       "  <tbody>\n",
       "    <tr>\n",
       "      <th>0</th>\n",
       "      <td>56</td>\n",
       "      <td>0</td>\n",
       "      <td>0</td>\n",
       "      <td>1</td>\n",
       "      <td>0</td>\n",
       "      <td>0</td>\n",
       "      <td>0</td>\n",
       "      <td>0</td>\n",
       "      <td>0</td>\n",
       "      <td>0</td>\n",
       "      <td>0</td>\n",
       "      <td>1</td>\n",
       "      <td>0</td>\n",
       "      <td>0</td>\n",
       "      <td>0</td>\n",
       "      <td>0</td>\n",
       "    </tr>\n",
       "    <tr>\n",
       "      <th>1</th>\n",
       "      <td>57</td>\n",
       "      <td>0</td>\n",
       "      <td>0</td>\n",
       "      <td>0</td>\n",
       "      <td>0</td>\n",
       "      <td>0</td>\n",
       "      <td>0</td>\n",
       "      <td>1</td>\n",
       "      <td>0</td>\n",
       "      <td>0</td>\n",
       "      <td>0</td>\n",
       "      <td>1</td>\n",
       "      <td>0</td>\n",
       "      <td>0</td>\n",
       "      <td>0</td>\n",
       "      <td>0</td>\n",
       "    </tr>\n",
       "  </tbody>\n",
       "</table>\n",
       "</div>"
      ],
      "text/plain": [
       "   age  job_blue-collar  job_entrepreneur  job_housemaid  job_management  \\\n",
       "0   56                0                 0              1               0   \n",
       "1   57                0                 0              0               0   \n",
       "\n",
       "   job_retired  job_self-employed  job_services  job_student  job_technician  \\\n",
       "0            0                  0             0            0               0   \n",
       "1            0                  0             1            0               0   \n",
       "\n",
       "   job_unemployed  marital_married  marital_single  default_yes  housing_yes  \\\n",
       "0               0                1               0            0            0   \n",
       "1               0                1               0            0            0   \n",
       "\n",
       "   loan_yes  \n",
       "0         0  \n",
       "1         0  "
      ]
     },
     "execution_count": 18,
     "metadata": {},
     "output_type": "execute_result"
    }
   ],
   "source": [
    "dummy_pred = pd.get_dummies(clientdata[predictors], drop_first=True)\n",
    "print(dummy_pred.shape)\n",
    "dummy_pred.head(2)"
   ]
  },
  {
   "cell_type": "code",
   "execution_count": 19,
   "metadata": {
    "collapsed": true
   },
   "outputs": [],
   "source": [
    "dummy_pred['education'] = clientdata['education']"
   ]
  },
  {
   "cell_type": "code",
   "execution_count": 20,
   "metadata": {},
   "outputs": [],
   "source": [
    "# Create the train set with known default data and test set with the unknown default data\n",
    "clientdata_missing =  dummy_pred.loc[dummy_pred.education.isnull(),:]\n",
    "clientdata_valid =  dummy_pred.loc[~dummy_pred.education.isnull(),:]"
   ]
  },
  {
   "cell_type": "code",
   "execution_count": 21,
   "metadata": {},
   "outputs": [
    {
     "name": "stdout",
     "output_type": "stream",
     "text": [
      "(1558, 17)\n",
      "(38245, 17)\n"
     ]
    }
   ],
   "source": [
    "print(clientdata_missing.shape)\n",
    "print(clientdata_valid.shape)"
   ]
  },
  {
   "cell_type": "code",
   "execution_count": 22,
   "metadata": {},
   "outputs": [
    {
     "data": {
      "text/plain": [
       "university.degree      11821\n",
       "high.school             9244\n",
       "basic.9y                5856\n",
       "professional.course     5100\n",
       "basic.4y                4002\n",
       "basic.6y                2204\n",
       "illiterate                18\n",
       "Name: education, dtype: int64"
      ]
     },
     "execution_count": 22,
     "metadata": {},
     "output_type": "execute_result"
    }
   ],
   "source": [
    "clientdata_valid.education.value_counts()"
   ]
  },
  {
   "cell_type": "markdown",
   "metadata": {},
   "source": [
    "**2. Set the predictor and target variable**\n",
    "- All the predictors are categorical variables.\n",
    "- Convert the predictors to dummy variables\n",
    "- "
   ]
  },
  {
   "cell_type": "code",
   "execution_count": 23,
   "metadata": {},
   "outputs": [],
   "source": [
    "X_train = clientdata_valid.drop('education', axis =1)\n",
    "y_train = clientdata_valid['education'].values\n",
    "# clientdata_valid['education'].value_counts()"
   ]
  },
  {
   "cell_type": "markdown",
   "metadata": {},
   "source": [
    "**3. Standardize the predictor matrix**\n",
    "- Most of the predictors are categorical in nature. Hence, standardisation will not help.\n",
    "- Choose not to standardise the data"
   ]
  },
  {
   "cell_type": "code",
   "execution_count": 24,
   "metadata": {},
   "outputs": [],
   "source": [
    "# ss = StandardScaler()\n",
    "# Xs = ss.fit_transform(X)"
   ]
  },
  {
   "cell_type": "markdown",
   "metadata": {},
   "source": [
    "**4. Find the bext K for the imputation using KNN**"
   ]
  },
  {
   "cell_type": "code",
   "execution_count": 25,
   "metadata": {
    "collapsed": true
   },
   "outputs": [],
   "source": [
    "def find_best_k_cls(X, y, k_min=1, k_max=50, step=2, cv=5):\n",
    "    k_range = range(k_min, k_max+1, step)\n",
    "    accs = []\n",
    "    for k in k_range:\n",
    "        knn = KNeighborsClassifier(n_neighbors=k)\n",
    "        scores = cross_val_score(knn, X, y, cv=cv)\n",
    "        accs.append(np.mean(scores))\n",
    "    print (np.max(accs), np.argmax(k_range))\n",
    "    return np.argmax(k_range)"
   ]
  },
  {
   "cell_type": "code",
   "execution_count": null,
   "metadata": {},
   "outputs": [],
   "source": [
    "find_best_k_cls(X_train, y_train)"
   ]
  },
  {
   "cell_type": "markdown",
   "metadata": {},
   "source": [
    "**5. Fit KNN classifier**"
   ]
  },
  {
   "cell_type": "code",
   "execution_count": null,
   "metadata": {},
   "outputs": [],
   "source": [
    "knn = KNeighborsClassifier(n_neighbors=24)\n",
    "knn.fit(X_train,y_train)"
   ]
  },
  {
   "cell_type": "markdown",
   "metadata": {},
   "source": [
    "**6. Predict missing education values using the knn classifier model**"
   ]
  },
  {
   "cell_type": "code",
   "execution_count": null,
   "metadata": {},
   "outputs": [],
   "source": [
    "X_test = clientdata_missing.drop('education', axis =1)"
   ]
  },
  {
   "cell_type": "code",
   "execution_count": null,
   "metadata": {
    "scrolled": true
   },
   "outputs": [],
   "source": [
    "y_test = knn.predict(X_test)"
   ]
  },
  {
   "cell_type": "code",
   "execution_count": null,
   "metadata": {},
   "outputs": [],
   "source": [
    "pd.Series(y_test).value_counts()"
   ]
  },
  {
   "cell_type": "markdown",
   "metadata": {},
   "source": [
    "**7. Impute the missing education values to the dataset**"
   ]
  },
  {
   "cell_type": "code",
   "execution_count": null,
   "metadata": {},
   "outputs": [],
   "source": [
    "data.loc[data.education.isnull(), 'education'] = y_test"
   ]
  },
  {
   "cell_type": "code",
   "execution_count": null,
   "metadata": {
    "scrolled": true
   },
   "outputs": [],
   "source": [
    "checknullcount(data)"
   ]
  },
  {
   "cell_type": "code",
   "execution_count": null,
   "metadata": {
    "collapsed": true
   },
   "outputs": [],
   "source": []
  },
  {
   "cell_type": "code",
   "execution_count": null,
   "metadata": {
    "collapsed": true
   },
   "outputs": [],
   "source": []
  },
  {
   "cell_type": "code",
   "execution_count": null,
   "metadata": {
    "collapsed": true
   },
   "outputs": [],
   "source": []
  },
  {
   "cell_type": "code",
   "execution_count": null,
   "metadata": {
    "collapsed": true
   },
   "outputs": [],
   "source": []
  },
  {
   "cell_type": "code",
   "execution_count": null,
   "metadata": {
    "collapsed": true
   },
   "outputs": [],
   "source": []
  },
  {
   "cell_type": "code",
   "execution_count": null,
   "metadata": {},
   "outputs": [],
   "source": [
    "# Function to draw a box plot.\n",
    "# Parameters \n",
    "#     dict_of_values - A dictionary with the desired plot values mapped to their column names\n",
    "#     list_of_names - List of the Columns to be plotted\n",
    "#     kind - Choose plots style between pandas and seaborn\n",
    "#     data - The dataframe to be plotted\n",
    "# Return value-\n",
    "#     None\n",
    "plot_w_panda = 0\n",
    "plot_w_seaborn = 1\n",
    "def draw_boxplot(dict_of_values, list_of_names, kind = plot_w_panda, data = data):\n",
    "    if kind == plot_w_panda:\n",
    "        color = dict(boxes='DarkGreen', whiskers='DarkOrange', medians='DarkBlue', caps='Gray')\n",
    "        sat_plot_df = pd.DataFrame(dict_of_values, columns = list_of_names)\n",
    "        sat_plot_df.plot.box(color = color, vert = True)\n",
    "    else:\n",
    "        sns.boxplot(data = data, order = list_of_names, orient = 'h')\n",
    "    plt.show()"
   ]
  },
  {
   "cell_type": "markdown",
   "metadata": {},
   "source": [
    "## 1. What is the age range of the current customers?\n",
    "- There are 67 unique values"
   ]
  },
  {
   "cell_type": "code",
   "execution_count": null,
   "metadata": {},
   "outputs": [],
   "source": [
    "print('Minimum age of customer: ', data.age.min())\n",
    "print('Maximum age of customer: ', data.age.max())"
   ]
  },
  {
   "cell_type": "code",
   "execution_count": null,
   "metadata": {},
   "outputs": [],
   "source": [
    "# Plot Age distribution\n",
    "fig = plt.figure(figsize= (10,4))\n",
    "sns.boxplot(x = data.age, data = data, orient = 'h')\n",
    "plt.title('Distribution of customer age group')\n",
    "plt.xlabel('Age')\n",
    "plt.show()"
   ]
  },
  {
   "cell_type": "markdown",
   "metadata": {},
   "source": [
    "**People from age group 70 - 90 seem like outliers**"
   ]
  },
  {
   "cell_type": "markdown",
   "metadata": {},
   "source": [
    "## 2. What are the job type?\n",
    "- There are 11 unique Job types.\n",
    "- There are 39 null counts"
   ]
  },
  {
   "cell_type": "code",
   "execution_count": null,
   "metadata": {},
   "outputs": [],
   "source": [
    "# Plot Age distribution\n",
    "fig = plt.figure(figsize= (15,4))\n",
    "sns.countplot(x=data.job, data=data, palette=\"Greens_d\")\n",
    "plt.title('Distribution of customer job')\n",
    "plt.xlabel('Job Type')\n",
    "plt.show()"
   ]
  },
  {
   "cell_type": "markdown",
   "metadata": {},
   "source": [
    "**Have the clients with unknown job description subscribed to term deposit?**\n",
    "- Seems equally distributed. Might be ok to drop it"
   ]
  },
  {
   "cell_type": "code",
   "execution_count": null,
   "metadata": {},
   "outputs": [],
   "source": [
    "# # Plot Age distribution of people with unknown job types\n",
    "# fig = plt.figure(figsize= (15,4))\n",
    "# sns.countplot(x=data[data.job.isnull()].y, data=data, palette=\"Greens_d\")\n",
    "# plt.title('Term deposit distribution of clients with unknown job types')\n",
    "# plt.xlabel('Term deposit taken')\n",
    "# plt.show()"
   ]
  }
 ],
 "metadata": {
  "kernelspec": {
   "display_name": "Python 3",
   "language": "python",
   "name": "python3"
  },
  "language_info": {
   "codemirror_mode": {
    "name": "ipython",
    "version": 3
   },
   "file_extension": ".py",
   "mimetype": "text/x-python",
   "name": "python",
   "nbconvert_exporter": "python",
   "pygments_lexer": "ipython3",
   "version": "3.6.0"
  }
 },
 "nbformat": 4,
 "nbformat_minor": 2
}
